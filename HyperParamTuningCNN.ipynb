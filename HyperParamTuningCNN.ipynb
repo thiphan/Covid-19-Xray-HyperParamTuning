{
  "cells": [
    {
      "cell_type": "code",
      "execution_count": null,
      "metadata": {
        "colab": {
          "base_uri": "https://localhost:8080/"
        },
        "id": "eyfNr36ZKESZ",
        "outputId": "49e7eb4e-93ae-4ed9-d3fd-b8655ea94d2f"
      },
      "outputs": [
        {
          "name": "stdout",
          "output_type": "stream",
          "text": [
            "Sun Mar 27 18:13:44 2022       \n",
            "+-----------------------------------------------------------------------------+\n",
            "| NVIDIA-SMI 460.32.03    Driver Version: 460.32.03    CUDA Version: 11.2     |\n",
            "|-------------------------------+----------------------+----------------------+\n",
            "| GPU  Name        Persistence-M| Bus-Id        Disp.A | Volatile Uncorr. ECC |\n",
            "| Fan  Temp  Perf  Pwr:Usage/Cap|         Memory-Usage | GPU-Util  Compute M. |\n",
            "|                               |                      |               MIG M. |\n",
            "|===============================+======================+======================|\n",
            "|   0  Tesla P100-PCIE...  Off  | 00000000:00:04.0 Off |                    0 |\n",
            "| N/A   36C    P0    28W / 250W |      0MiB / 16280MiB |      0%      Default |\n",
            "|                               |                      |                  N/A |\n",
            "+-------------------------------+----------------------+----------------------+\n",
            "                                                                               \n",
            "+-----------------------------------------------------------------------------+\n",
            "| Processes:                                                                  |\n",
            "|  GPU   GI   CI        PID   Type   Process name                  GPU Memory |\n",
            "|        ID   ID                                                   Usage      |\n",
            "|=============================================================================|\n",
            "|  No running processes found                                                 |\n",
            "+-----------------------------------------------------------------------------+\n",
            "Sun Mar 27 18:13:44 2022       \n",
            "+-----------------------------------------------------------------------------+\n",
            "| NVIDIA-SMI 460.32.03    Driver Version: 460.32.03    CUDA Version: 11.2     |\n",
            "|-------------------------------+----------------------+----------------------+\n",
            "| GPU  Name        Persistence-M| Bus-Id        Disp.A | Volatile Uncorr. ECC |\n",
            "| Fan  Temp  Perf  Pwr:Usage/Cap|         Memory-Usage | GPU-Util  Compute M. |\n",
            "|                               |                      |               MIG M. |\n",
            "|===============================+======================+======================|\n",
            "|   0  Tesla P100-PCIE...  Off  | 00000000:00:04.0 Off |                    0 |\n",
            "| N/A   36C    P0    28W / 250W |      0MiB / 16280MiB |      0%      Default |\n",
            "|                               |                      |                  N/A |\n",
            "+-------------------------------+----------------------+----------------------+\n",
            "                                                                               \n",
            "+-----------------------------------------------------------------------------+\n",
            "| Processes:                                                                  |\n",
            "|  GPU   GI   CI        PID   Type   Process name                  GPU Memory |\n",
            "|        ID   ID                                                   Usage      |\n",
            "|=============================================================================|\n",
            "|  No running processes found                                                 |\n",
            "+-----------------------------------------------------------------------------+\n"
          ]
        }
      ],
      "source": [
        "# Checking the GPU information\n",
        "\n",
        "!nvidia-smi\n",
        "\n",
        "gpu_info = !nvidia-smi\n",
        "gpu_info = '\\n'.join(gpu_info)\n",
        "if gpu_info.find('failed') >= 0:\n",
        "  print('Not connected to a GPU')\n",
        "else:\n",
        "  print(gpu_info)"
      ]
    },
    {
      "cell_type": "code",
      "execution_count": null,
      "metadata": {
        "colab": {
          "base_uri": "https://localhost:8080/"
        },
        "id": "4NKQ6rJZQqIa",
        "outputId": "1664586b-7e7c-475f-dc7c-e88daaeadeb9"
      },
      "outputs": [
        {
          "name": "stdout",
          "output_type": "stream",
          "text": [
            "Drive already mounted at /content/drive; to attempt to forcibly remount, call drive.mount(\"/content/drive\", force_remount=True).\n"
          ]
        }
      ],
      "source": [
        "from google.colab import drive\n",
        "drive.mount('/content/drive')"
      ]
    },
    {
      "cell_type": "code",
      "execution_count": null,
      "metadata": {
        "colab": {
          "base_uri": "https://localhost:8080/"
        },
        "id": "azY35R-OMa1a",
        "outputId": "4375491a-2d25-4cbd-d312-fa40c025175e"
      },
      "outputs": [
        {
          "name": "stdout",
          "output_type": "stream",
          "text": [
            "Your runtime has 27.3 gigabytes of available RAM\n",
            "\n",
            "You are using a high-RAM runtime!\n"
          ]
        }
      ],
      "source": [
        "from psutil import virtual_memory\n",
        "ram_gb = virtual_memory().total / 1e9\n",
        "print('Your runtime has {:.1f} gigabytes of available RAM\\n'.format(ram_gb))\n",
        "\n",
        "if ram_gb < 20:\n",
        "  print('Not using a high-RAM runtime')\n",
        "else:\n",
        "  print('You are using a high-RAM runtime!')"
      ]
    },
    {
      "cell_type": "code",
      "execution_count": null,
      "metadata": {
        "colab": {
          "base_uri": "https://localhost:8080/"
        },
        "id": "uqyG_JUJUQaK",
        "outputId": "c5bc8c34-9a64-44b6-f7e4-cf0be02f0343"
      },
      "outputs": [
        {
          "name": "stdout",
          "output_type": "stream",
          "text": [
            "\u001b[?25l\r\u001b[K     |██▌                             | 10 kB 35.6 MB/s eta 0:00:01\r\u001b[K     |█████                           | 20 kB 29.9 MB/s eta 0:00:01\r\u001b[K     |███████▍                        | 30 kB 19.1 MB/s eta 0:00:01\r\u001b[K     |█████████▉                      | 40 kB 7.8 MB/s eta 0:00:01\r\u001b[K     |████████████▎                   | 51 kB 7.8 MB/s eta 0:00:01\r\u001b[K     |██████████████▊                 | 61 kB 9.2 MB/s eta 0:00:01\r\u001b[K     |█████████████████▏              | 71 kB 9.5 MB/s eta 0:00:01\r\u001b[K     |███████████████████▋            | 81 kB 9.5 MB/s eta 0:00:01\r\u001b[K     |██████████████████████          | 92 kB 10.6 MB/s eta 0:00:01\r\u001b[K     |████████████████████████▌       | 102 kB 8.7 MB/s eta 0:00:01\r\u001b[K     |███████████████████████████     | 112 kB 8.7 MB/s eta 0:00:01\r\u001b[K     |█████████████████████████████▍  | 122 kB 8.7 MB/s eta 0:00:01\r\u001b[K     |███████████████████████████████▉| 133 kB 8.7 MB/s eta 0:00:01\r\u001b[K     |████████████████████████████████| 133 kB 8.7 MB/s \n",
            "\u001b[?25h"
          ]
        }
      ],
      "source": [
        "# Install keras tuner\n",
        "!pip install -q -U keras-tuner"
      ]
    },
    {
      "cell_type": "code",
      "execution_count": null,
      "metadata": {
        "id": "xVnGKasItWNk"
      },
      "outputs": [],
      "source": [
        "# Importing required libraries\n",
        "\n",
        "import tensorflow as tf\n",
        "from tensorflow import keras\n",
        "import keras_tuner as kt\n",
        "from tensorflow.keras.preprocessing.image import ImageDataGenerator\n",
        "tf.keras.backend.clear_session()\n",
        "from tensorflow.keras.layers import Input, Softmax, Dense, Dropout, BatchNormalization\n",
        "from tensorflow.keras.models import Model\n",
        "import numpy as np\n",
        "from sklearn.metrics import classification_report\n",
        "from sklearn.metrics import confusion_matrix"
      ]
    },
    {
      "cell_type": "code",
      "execution_count": null,
      "metadata": {
        "colab": {
          "base_uri": "https://localhost:8080/"
        },
        "id": "TrfYSDhjL20d",
        "outputId": "50cc5cc7-aac4-42db-bdb6-d3080a9c9ef3"
      },
      "outputs": [
        {
          "name": "stdout",
          "output_type": "stream",
          "text": [
            "--2022-03-27 18:14:06--  https://www.dropbox.com/s/73s9n7nugqrv1h7/Dataset.zip?dl=1\n",
            "Resolving www.dropbox.com (www.dropbox.com)... 162.125.1.18, 2620:100:6016:18::a27d:112\n",
            "Connecting to www.dropbox.com (www.dropbox.com)|162.125.1.18|:443... connected.\n",
            "HTTP request sent, awaiting response... 301 Moved Permanently\n",
            "Location: /s/dl/73s9n7nugqrv1h7/Dataset.zip [following]\n",
            "--2022-03-27 18:14:07--  https://www.dropbox.com/s/dl/73s9n7nugqrv1h7/Dataset.zip\n",
            "Reusing existing connection to www.dropbox.com:443.\n",
            "HTTP request sent, awaiting response... 302 Found\n",
            "Location: https://uc3a164147a90145595750d174fe.dl.dropboxusercontent.com/cd/0/get/BiSwB--IdKzkZ80UPHKBXd7TeVWRdxWfUw9emqUbG_52AaMhDxBhB8mzExjiJ5HEoFnMb5YOOqRgFBQPTbS4PVl5HDEWabxoe-pIrd_XFigZpqS8nnrZoPDxaJop5w5UEqvPT-wKNyRA07OuUTJLgh_BNaosbpP7Dul4IxxFfsP1PY3MRyPYchIG1zTMZ_x8ewE/file?dl=1# [following]\n",
            "--2022-03-27 18:14:07--  https://uc3a164147a90145595750d174fe.dl.dropboxusercontent.com/cd/0/get/BiSwB--IdKzkZ80UPHKBXd7TeVWRdxWfUw9emqUbG_52AaMhDxBhB8mzExjiJ5HEoFnMb5YOOqRgFBQPTbS4PVl5HDEWabxoe-pIrd_XFigZpqS8nnrZoPDxaJop5w5UEqvPT-wKNyRA07OuUTJLgh_BNaosbpP7Dul4IxxFfsP1PY3MRyPYchIG1zTMZ_x8ewE/file?dl=1\n",
            "Resolving uc3a164147a90145595750d174fe.dl.dropboxusercontent.com (uc3a164147a90145595750d174fe.dl.dropboxusercontent.com)... 162.125.1.15, 2620:100:6016:15::a27d:10f\n",
            "Connecting to uc3a164147a90145595750d174fe.dl.dropboxusercontent.com (uc3a164147a90145595750d174fe.dl.dropboxusercontent.com)|162.125.1.15|:443... connected.\n",
            "HTTP request sent, awaiting response... 200 OK\n",
            "Length: 2090247044 (1.9G) [application/binary]\n",
            "Saving to: ‘archive.zip’\n",
            "\n",
            "archive.zip         100%[===================>]   1.95G  60.4MB/s    in 30s     \n",
            "\n",
            "2022-03-27 18:14:38 (65.4 MB/s) - ‘archive.zip’ saved [2090247044/2090247044]\n",
            "\n"
          ]
        }
      ],
      "source": [
        "# Downloading the Chest X-ray dataset\n",
        "\n",
        "!wget https://www.dropbox.com/s/73s9n7nugqrv1h7/Dataset.zip?dl=1 -O 'archive.zip'"
      ]
    },
    {
      "cell_type": "code",
      "execution_count": null,
      "metadata": {
        "id": "a2ZfCB8sMNsi"
      },
      "outputs": [],
      "source": [
        "# Unzipping the dataset and delete the .zip file\n",
        "\n",
        "!unzip -q '/content/archive.zip'\n",
        "#!rm -rf '/content/Dataset.zip'"
      ]
    },
    {
      "cell_type": "code",
      "execution_count": null,
      "metadata": {
        "id": "jRjJftQ2tTu8"
      },
      "outputs": [],
      "source": [
        "# Settting up random seed, and the dataset path\n",
        "\n",
        "SEED = 21\n",
        "dataset_path = '/content/Dataset'"
      ]
    },
    {
      "cell_type": "code",
      "execution_count": null,
      "metadata": {
        "id": "1WmRUvy1R4Sf"
      },
      "outputs": [],
      "source": [
        "# Initialising ImageDataGenerator for data augmentation\n",
        "# use random horizontal flip, width shift, heigh shift for augmentation\n",
        "# Pixels will be notmalised between 0 and 1\n",
        "# zca_epsilon: Epsilon for ZCA whitening. Default is 1e-6\n",
        "# Rescale: Rescaling factor, defaults to None.\n",
        "      \n",
        "\n",
        "train_val_gen = ImageDataGenerator(zca_epsilon = 1e-06,\n",
        "                                   horizontal_flip = True,\n",
        "                                   rescale = 1./255,  \n",
        "                                   width_shift_range=0.1,\n",
        "                                   height_shift_range=0.1,)        \n",
        "\n",
        "test_gen = ImageDataGenerator(zca_epsilon = 1e-06,\n",
        "                                   horizontal_flip = True,\n",
        "                                   rescale = 1./255,  \n",
        "                                   width_shift_range=0.1,\n",
        "                                   height_shift_range=0.1,)              \n",
        "\n"
      ]
    },
    {
      "cell_type": "code",
      "execution_count": null,
      "metadata": {
        "id": "AKi9Wo4SR4RW"
      },
      "outputs": [],
      "source": [
        "# Taking input of the train, validation, and test images using flow_from_directory() function\n",
        "\n",
        "\n",
        "def train_data_generation(data_gen,image_size,data_path):\n",
        "\n",
        "  datagen = data_gen.flow_from_directory(directory = data_path,\n",
        "                                                  target_size = (image_size, image_size),\n",
        "                                                  color_mode = \"rgb\",\n",
        "                                                  classes = None,\n",
        "                                                  class_mode = \"categorical\",\n",
        "                                                  batch_size = 64,\n",
        "                                                  shuffle = True,\n",
        "                                                  seed = SEED,\n",
        "                                                  interpolation = \"nearest\")\n",
        "  return datagen\n",
        "\n",
        "\n",
        "# For testing, we should take one input at a time. Hence, batch_size = 1\n",
        "def test_data_generation (img_size):\n",
        "  test_datagen = test_gen.flow_from_directory(directory = dataset_path + '/test',\n",
        "                                              target_size = (img_size, img_size),\n",
        "                                              color_mode = \"rgb\",\n",
        "                                              classes = None,\n",
        "                                              class_mode = \"categorical\",\n",
        "                                              batch_size = 1,\n",
        "                                              shuffle = False,\n",
        "                                              seed = SEED,\n",
        "                                              interpolation = \"nearest\")\n",
        "  return test_datagen"
      ]
    },
    {
      "cell_type": "code",
      "execution_count": null,
      "metadata": {
        "colab": {
          "base_uri": "https://localhost:8080/"
        },
        "id": "w0ecJzzHisJN",
        "outputId": "7339a9fd-4162-4599-81b4-a1d717d77b7a"
      },
      "outputs": [
        {
          "name": "stdout",
          "output_type": "stream",
          "text": [
            "35\n"
          ]
        }
      ],
      "source": [
        "#List of all available pretrained models\n",
        "import inspect\n",
        "from tqdm import tqdm\n",
        "from keras import models\n",
        "from keras import layers\n",
        "from keras import optimizers\n",
        "from tensorflow.keras.callbacks import EarlyStopping\n",
        "\n",
        "\n",
        "# model_dictionary = {m[0]:m[1] for m in inspect.getmembers(tf.keras.applications, inspect.isfunction)}\n",
        "model_list = [m for m in inspect.getmembers(tf.keras.applications, inspect.isfunction)]\n",
        "# model_classes = (tf.keras.Model, keras.Model)\n",
        "print(len(model_list))"
      ]
    },
    {
      "cell_type": "code",
      "execution_count": null,
      "metadata": {
        "colab": {
          "base_uri": "https://localhost:8080/"
        },
        "id": "ijEs4qi0eOux",
        "outputId": "bd5b8990-1ef2-4c62-9189-0d1e9bd764b3"
      },
      "outputs": [
        {
          "name": "stdout",
          "output_type": "stream",
          "text": [
            "Downloading data from https://storage.googleapis.com/tensorflow/keras-applications/vgg16/vgg16_weights_tf_dim_ordering_tf_kernels_notop.h5\n",
            "58892288/58889256 [==============================] - 0s 0us/step\n",
            "58900480/58889256 [==============================] - 0s 0us/step\n",
            "[-19, -18, -16, -15, -13, -12, -11, -9, -8, -7, -5, -4, -3]\n",
            "[-15, -13, -12, -11, -9, -8, -7, -5, -4, -3]\n"
          ]
        }
      ],
      "source": [
        "pretrained_model = keras.applications.VGG16(weights = 'imagenet',\n",
        "                          classes = 1000,\n",
        "                          input_shape = (224,224,3),\n",
        "                          include_top = False,\n",
        "                          pooling = 'max')\n",
        "names = [layer.name for layer in pretrained_model.layers]\n",
        "# print(names)\n",
        "indexes = [(names.index(conv)-len(names)) for conv in names if \"conv\" in conv]\n",
        "print(indexes)\n",
        "print(indexes[-10:])"
      ]
    },
    {
      "cell_type": "code",
      "execution_count": null,
      "metadata": {
        "colab": {
          "base_uri": "https://localhost:8080/"
        },
        "id": "WFtGrCLxRoO3",
        "outputId": "8526ba37-17e0-4775-b875-ddcf8524ec10"
      },
      "outputs": [
        {
          "name": "stdout",
          "output_type": "stream",
          "text": [
            "Trial 30 Complete [00h 21m 04s]\n",
            "val_accuracy: 0.9664074778556824\n",
            "\n",
            "Best val_accuracy So Far: 0.9682736992835999\n",
            "Total elapsed time: 06h 24m 41s\n",
            "INFO:tensorflow:Oracle triggered exit\n",
            "[INFO] saving optimized model's configuration ...\n",
            "\n",
            "Epoch 1/100\n",
            "177/177 [==============================] - 212s 1s/step - loss: 0.0276 - accuracy: 0.9902 - val_loss: 0.1936 - val_accuracy: 0.9667\n",
            "Epoch 2/100\n",
            "177/177 [==============================] - 210s 1s/step - loss: 0.0246 - accuracy: 0.9924 - val_loss: 0.2061 - val_accuracy: 0.9664\n",
            "Epoch 3/100\n",
            "177/177 [==============================] - 210s 1s/step - loss: 0.0211 - accuracy: 0.9922 - val_loss: 0.2173 - val_accuracy: 0.9630\n",
            "Epoch 4/100\n",
            "177/177 [==============================] - 211s 1s/step - loss: 0.0218 - accuracy: 0.9928 - val_loss: 0.2202 - val_accuracy: 0.9636\n",
            "Epoch 5/100\n",
            "177/177 [==============================] - 210s 1s/step - loss: 0.0191 - accuracy: 0.9944 - val_loss: 0.2080 - val_accuracy: 0.9661\n",
            "Epoch 6/100\n",
            "177/177 [==============================] - 210s 1s/step - loss: 0.0190 - accuracy: 0.9936 - val_loss: 0.2162 - val_accuracy: 0.9645\n",
            "Epoch 7/100\n",
            "177/177 [==============================] - 210s 1s/step - loss: 0.0169 - accuracy: 0.9943 - val_loss: 0.2154 - val_accuracy: 0.9673\n",
            "Epoch 8/100\n",
            "177/177 [==============================] - 210s 1s/step - loss: 0.0191 - accuracy: 0.9942 - val_loss: 0.2278 - val_accuracy: 0.9664\n",
            "Epoch 9/100\n",
            "177/177 [==============================] - 209s 1s/step - loss: 0.0162 - accuracy: 0.9942 - val_loss: 0.2273 - val_accuracy: 0.9658\n",
            "Epoch 10/100\n",
            "177/177 [==============================] - 209s 1s/step - loss: 0.0181 - accuracy: 0.9934 - val_loss: 0.2257 - val_accuracy: 0.9658\n",
            "Epoch 11/100\n",
            "177/177 [==============================] - 210s 1s/step - loss: 0.0156 - accuracy: 0.9944 - val_loss: 0.2274 - val_accuracy: 0.9649\n",
            "Epoch 12/100\n",
            "177/177 [==============================] - 209s 1s/step - loss: 0.0166 - accuracy: 0.9944 - val_loss: 0.2249 - val_accuracy: 0.9692\n",
            "Epoch 13/100\n",
            "177/177 [==============================] - 209s 1s/step - loss: 0.0174 - accuracy: 0.9938 - val_loss: 0.2226 - val_accuracy: 0.9664\n",
            "Epoch 14/100\n",
            "177/177 [==============================] - 209s 1s/step - loss: 0.0163 - accuracy: 0.9943 - val_loss: 0.2283 - val_accuracy: 0.9652\n",
            "Epoch 15/100\n",
            "177/177 [==============================] - 211s 1s/step - loss: 0.0153 - accuracy: 0.9950 - val_loss: 0.2343 - val_accuracy: 0.9667\n",
            "Epoch 16/100\n",
            "177/177 [==============================] - 211s 1s/step - loss: 0.0146 - accuracy: 0.9958 - val_loss: 0.2354 - val_accuracy: 0.9686\n",
            "Epoch 17/100\n",
            "177/177 [==============================] - 210s 1s/step - loss: 0.0149 - accuracy: 0.9952 - val_loss: 0.2259 - val_accuracy: 0.9695\n",
            "Epoch 18/100\n",
            "177/177 [==============================] - 211s 1s/step - loss: 0.0132 - accuracy: 0.9961 - val_loss: 0.2292 - val_accuracy: 0.9667\n",
            "Epoch 19/100\n",
            "177/177 [==============================] - 210s 1s/step - loss: 0.0146 - accuracy: 0.9952 - val_loss: 0.2341 - val_accuracy: 0.9677\n",
            "Epoch 20/100\n",
            "177/177 [==============================] - 211s 1s/step - loss: 0.0143 - accuracy: 0.9951 - val_loss: 0.2570 - val_accuracy: 0.9611\n",
            "Epoch 21/100\n",
            "177/177 [==============================] - 210s 1s/step - loss: 0.0126 - accuracy: 0.9963 - val_loss: 0.2409 - val_accuracy: 0.9645\n",
            "Epoch 22/100\n",
            "177/177 [==============================] - 209s 1s/step - loss: 0.0149 - accuracy: 0.9949 - val_loss: 0.2530 - val_accuracy: 0.9639\n",
            "Epoch 23/100\n",
            "177/177 [==============================] - 209s 1s/step - loss: 0.0157 - accuracy: 0.9949 - val_loss: 0.2369 - val_accuracy: 0.9701\n",
            "Epoch 24/100\n",
            "177/177 [==============================] - 209s 1s/step - loss: 0.0152 - accuracy: 0.9947 - val_loss: 0.2379 - val_accuracy: 0.9661\n",
            "Epoch 25/100\n",
            "177/177 [==============================] - 210s 1s/step - loss: 0.0135 - accuracy: 0.9956 - val_loss: 0.2519 - val_accuracy: 0.9677\n",
            "Epoch 26/100\n",
            "177/177 [==============================] - 209s 1s/step - loss: 0.0152 - accuracy: 0.9950 - val_loss: 0.2424 - val_accuracy: 0.9658\n",
            "Epoch 27/100\n",
            "177/177 [==============================] - 208s 1s/step - loss: 0.0143 - accuracy: 0.9950 - val_loss: 0.2398 - val_accuracy: 0.9630\n",
            "Epoch 28/100\n",
            "177/177 [==============================] - 206s 1s/step - loss: 0.0112 - accuracy: 0.9962 - val_loss: 0.2393 - val_accuracy: 0.9683\n",
            "Epoch 29/100\n",
            "177/177 [==============================] - 207s 1s/step - loss: 0.0120 - accuracy: 0.9956 - val_loss: 0.2387 - val_accuracy: 0.9639\n",
            "Epoch 30/100\n",
            "177/177 [==============================] - 206s 1s/step - loss: 0.0146 - accuracy: 0.9943 - val_loss: 0.2367 - val_accuracy: 0.9636\n",
            "Epoch 31/100\n",
            "177/177 [==============================] - 206s 1s/step - loss: 0.0129 - accuracy: 0.9961 - val_loss: 0.2626 - val_accuracy: 0.9642\n",
            "Epoch 32/100\n",
            "177/177 [==============================] - 206s 1s/step - loss: 0.0132 - accuracy: 0.9956 - val_loss: 0.2566 - val_accuracy: 0.9677\n",
            "Epoch 33/100\n",
            "177/177 [==============================] - 208s 1s/step - loss: 0.0147 - accuracy: 0.9953 - val_loss: 0.2506 - val_accuracy: 0.9633\n",
            "Epoch 34/100\n",
            "177/177 [==============================] - 207s 1s/step - loss: 0.0104 - accuracy: 0.9966 - val_loss: 0.2546 - val_accuracy: 0.9673\n",
            "Epoch 35/100\n",
            "177/177 [==============================] - 208s 1s/step - loss: 0.0126 - accuracy: 0.9963 - val_loss: 0.2511 - val_accuracy: 0.9627\n",
            "Epoch 36/100\n",
            "177/177 [==============================] - 208s 1s/step - loss: 0.0153 - accuracy: 0.9944 - val_loss: 0.2388 - val_accuracy: 0.9667\n",
            "Epoch 37/100\n",
            "177/177 [==============================] - 207s 1s/step - loss: 0.0109 - accuracy: 0.9960 - val_loss: 0.2538 - val_accuracy: 0.9645\n",
            "Epoch 38/100\n",
            "177/177 [==============================] - 208s 1s/step - loss: 0.0110 - accuracy: 0.9966 - val_loss: 0.2506 - val_accuracy: 0.9661\n",
            "Epoch 39/100\n",
            "177/177 [==============================] - 209s 1s/step - loss: 0.0113 - accuracy: 0.9960 - val_loss: 0.2380 - val_accuracy: 0.9673\n",
            "Epoch 40/100\n",
            "177/177 [==============================] - 210s 1s/step - loss: 0.0125 - accuracy: 0.9966 - val_loss: 0.2499 - val_accuracy: 0.9655\n",
            "Epoch 41/100\n",
            "177/177 [==============================] - 210s 1s/step - loss: 0.0116 - accuracy: 0.9965 - val_loss: 0.2555 - val_accuracy: 0.9645\n",
            "Epoch 42/100\n",
            "177/177 [==============================] - 210s 1s/step - loss: 0.0124 - accuracy: 0.9964 - val_loss: 0.2534 - val_accuracy: 0.9636\n",
            "Epoch 43/100\n",
            "177/177 [==============================] - 210s 1s/step - loss: 0.0120 - accuracy: 0.9959 - val_loss: 0.2581 - val_accuracy: 0.9645\n",
            "Epoch 44/100\n",
            "177/177 [==============================] - 209s 1s/step - loss: 0.0117 - accuracy: 0.9958 - val_loss: 0.2510 - val_accuracy: 0.9664\n",
            "Epoch 45/100\n",
            "177/177 [==============================] - 210s 1s/step - loss: 0.0093 - accuracy: 0.9973 - val_loss: 0.2576 - val_accuracy: 0.9639\n",
            "Epoch 46/100\n",
            "177/177 [==============================] - 210s 1s/step - loss: 0.0129 - accuracy: 0.9958 - val_loss: 0.2638 - val_accuracy: 0.9633\n",
            "Epoch 47/100\n",
            "177/177 [==============================] - 210s 1s/step - loss: 0.0115 - accuracy: 0.9958 - val_loss: 0.2547 - val_accuracy: 0.9664\n",
            "Epoch 48/100\n",
            "177/177 [==============================] - 211s 1s/step - loss: 0.0096 - accuracy: 0.9973 - val_loss: 0.2503 - val_accuracy: 0.9686\n",
            "Epoch 49/100\n",
            "177/177 [==============================] - 210s 1s/step - loss: 0.0112 - accuracy: 0.9965 - val_loss: 0.2559 - val_accuracy: 0.9661\n",
            "Epoch 50/100\n",
            "177/177 [==============================] - 209s 1s/step - loss: 0.0118 - accuracy: 0.9963 - val_loss: 0.2469 - val_accuracy: 0.9652\n",
            "Epoch 51/100\n",
            "177/177 [==============================] - 210s 1s/step - loss: 0.0100 - accuracy: 0.9965 - val_loss: 0.2587 - val_accuracy: 0.9655\n",
            "Epoch 52/100\n",
            "177/177 [==============================] - 210s 1s/step - loss: 0.0109 - accuracy: 0.9957 - val_loss: 0.2594 - val_accuracy: 0.9667\n",
            "Epoch 53/100\n",
            "177/177 [==============================] - 210s 1s/step - loss: 0.0096 - accuracy: 0.9970 - val_loss: 0.2679 - val_accuracy: 0.9636\n",
            "Epoch 54/100\n",
            "177/177 [==============================] - 212s 1s/step - loss: 0.0098 - accuracy: 0.9960 - val_loss: 0.2502 - val_accuracy: 0.9680\n",
            "Epoch 55/100\n",
            "177/177 [==============================] - 212s 1s/step - loss: 0.0088 - accuracy: 0.9971 - val_loss: 0.2732 - val_accuracy: 0.9630\n",
            "Epoch 56/100\n",
            "177/177 [==============================] - 212s 1s/step - loss: 0.0095 - accuracy: 0.9969 - val_loss: 0.2611 - val_accuracy: 0.9624\n",
            "Epoch 57/100\n",
            "177/177 [==============================] - 213s 1s/step - loss: 0.0119 - accuracy: 0.9963 - val_loss: 0.2571 - val_accuracy: 0.9655\n",
            "Epoch 58/100\n",
            "177/177 [==============================] - 212s 1s/step - loss: 0.0102 - accuracy: 0.9967 - val_loss: 0.2632 - val_accuracy: 0.9633\n",
            "Epoch 59/100\n",
            "177/177 [==============================] - 213s 1s/step - loss: 0.0100 - accuracy: 0.9962 - val_loss: 0.2472 - val_accuracy: 0.9673\n",
            "Epoch 60/100\n",
            "177/177 [==============================] - 211s 1s/step - loss: 0.0107 - accuracy: 0.9963 - val_loss: 0.2456 - val_accuracy: 0.9664\n",
            "Epoch 61/100\n",
            "177/177 [==============================] - 213s 1s/step - loss: 0.0109 - accuracy: 0.9960 - val_loss: 0.2577 - val_accuracy: 0.9695\n",
            "Epoch 62/100\n",
            "177/177 [==============================] - 213s 1s/step - loss: 0.0097 - accuracy: 0.9972 - val_loss: 0.2665 - val_accuracy: 0.9633\n",
            "Epoch 63/100\n",
            "177/177 [==============================] - 211s 1s/step - loss: 0.0089 - accuracy: 0.9971 - val_loss: 0.2531 - val_accuracy: 0.9673\n",
            "Epoch 64/100\n",
            "177/177 [==============================] - 213s 1s/step - loss: 0.0103 - accuracy: 0.9960 - val_loss: 0.2721 - val_accuracy: 0.9658\n",
            "Epoch 65/100\n",
            "177/177 [==============================] - 212s 1s/step - loss: 0.0102 - accuracy: 0.9970 - val_loss: 0.2756 - val_accuracy: 0.9642\n",
            "Epoch 66/100\n",
            "177/177 [==============================] - 211s 1s/step - loss: 0.0108 - accuracy: 0.9961 - val_loss: 0.2614 - val_accuracy: 0.9677\n",
            "Epoch 67/100\n",
            "177/177 [==============================] - 213s 1s/step - loss: 0.0095 - accuracy: 0.9971 - val_loss: 0.2566 - val_accuracy: 0.9658\n",
            "Epoch 68/100\n",
            "177/177 [==============================] - 212s 1s/step - loss: 0.0080 - accuracy: 0.9973 - val_loss: 0.2532 - val_accuracy: 0.9701\n",
            "Epoch 69/100\n",
            "177/177 [==============================] - 212s 1s/step - loss: 0.0098 - accuracy: 0.9970 - val_loss: 0.2759 - val_accuracy: 0.9661\n",
            "Epoch 70/100\n",
            "177/177 [==============================] - 213s 1s/step - loss: 0.0095 - accuracy: 0.9972 - val_loss: 0.2691 - val_accuracy: 0.9677\n",
            "Epoch 71/100\n",
            "177/177 [==============================] - 211s 1s/step - loss: 0.0110 - accuracy: 0.9967 - val_loss: 0.2757 - val_accuracy: 0.9683\n",
            "Epoch 72/100\n",
            "177/177 [==============================] - 211s 1s/step - loss: 0.0102 - accuracy: 0.9960 - val_loss: 0.2652 - val_accuracy: 0.9636\n",
            "Epoch 73/100\n",
            "177/177 [==============================] - 211s 1s/step - loss: 0.0087 - accuracy: 0.9973 - val_loss: 0.2496 - val_accuracy: 0.9680\n",
            "Epoch 74/100\n",
            "177/177 [==============================] - 212s 1s/step - loss: 0.0091 - accuracy: 0.9966 - val_loss: 0.2653 - val_accuracy: 0.9645\n",
            "Epoch 75/100\n",
            "177/177 [==============================] - 212s 1s/step - loss: 0.0089 - accuracy: 0.9970 - val_loss: 0.2572 - val_accuracy: 0.9655\n",
            "Epoch 76/100\n",
            "177/177 [==============================] - 211s 1s/step - loss: 0.0096 - accuracy: 0.9967 - val_loss: 0.2608 - val_accuracy: 0.9670\n",
            "Epoch 77/100\n",
            "177/177 [==============================] - 212s 1s/step - loss: 0.0093 - accuracy: 0.9972 - val_loss: 0.2763 - val_accuracy: 0.9667\n",
            "Epoch 78/100\n",
            "177/177 [==============================] - 211s 1s/step - loss: 0.0086 - accuracy: 0.9969 - val_loss: 0.2651 - val_accuracy: 0.9680\n",
            "Epoch 79/100\n",
            "177/177 [==============================] - 211s 1s/step - loss: 0.0101 - accuracy: 0.9965 - val_loss: 0.2666 - val_accuracy: 0.9649\n",
            "Epoch 80/100\n",
            "177/177 [==============================] - 211s 1s/step - loss: 0.0095 - accuracy: 0.9965 - val_loss: 0.2747 - val_accuracy: 0.9667\n",
            "Epoch 81/100\n",
            "177/177 [==============================] - 212s 1s/step - loss: 0.0106 - accuracy: 0.9962 - val_loss: 0.2718 - val_accuracy: 0.9649\n",
            "Epoch 82/100\n",
            "177/177 [==============================] - 212s 1s/step - loss: 0.0093 - accuracy: 0.9966 - val_loss: 0.2684 - val_accuracy: 0.9652\n",
            "Epoch 83/100\n",
            "177/177 [==============================] - 212s 1s/step - loss: 0.0090 - accuracy: 0.9971 - val_loss: 0.2927 - val_accuracy: 0.9627\n",
            "Epoch 84/100\n",
            "177/177 [==============================] - 212s 1s/step - loss: 0.0076 - accuracy: 0.9975 - val_loss: 0.2704 - val_accuracy: 0.9649\n",
            "Epoch 85/100\n",
            "177/177 [==============================] - 212s 1s/step - loss: 0.0078 - accuracy: 0.9975 - val_loss: 0.2621 - val_accuracy: 0.9664\n",
            "Epoch 86/100\n",
            "177/177 [==============================] - 212s 1s/step - loss: 0.0080 - accuracy: 0.9975 - val_loss: 0.2900 - val_accuracy: 0.9652\n",
            "Epoch 87/100\n",
            "177/177 [==============================] - 212s 1s/step - loss: 0.0081 - accuracy: 0.9977 - val_loss: 0.2759 - val_accuracy: 0.9689\n",
            "Epoch 88/100\n",
            "177/177 [==============================] - 212s 1s/step - loss: 0.0082 - accuracy: 0.9969 - val_loss: 0.2844 - val_accuracy: 0.9658\n",
            "Epoch 89/100\n",
            "177/177 [==============================] - 212s 1s/step - loss: 0.0071 - accuracy: 0.9981 - val_loss: 0.2877 - val_accuracy: 0.9652\n",
            "Epoch 90/100\n",
            "177/177 [==============================] - 213s 1s/step - loss: 0.0094 - accuracy: 0.9970 - val_loss: 0.2727 - val_accuracy: 0.9683\n",
            "Epoch 91/100\n",
            "177/177 [==============================] - 213s 1s/step - loss: 0.0090 - accuracy: 0.9968 - val_loss: 0.2942 - val_accuracy: 0.9639\n",
            "Epoch 92/100\n",
            "177/177 [==============================] - 212s 1s/step - loss: 0.0101 - accuracy: 0.9972 - val_loss: 0.2704 - val_accuracy: 0.9664\n",
            "Epoch 93/100\n",
            "177/177 [==============================] - 212s 1s/step - loss: 0.0078 - accuracy: 0.9974 - val_loss: 0.2767 - val_accuracy: 0.9630\n",
            "Epoch 94/100\n",
            "177/177 [==============================] - 213s 1s/step - loss: 0.0073 - accuracy: 0.9973 - val_loss: 0.2655 - val_accuracy: 0.9683\n",
            "Epoch 95/100\n",
            "177/177 [==============================] - 212s 1s/step - loss: 0.0100 - accuracy: 0.9964 - val_loss: 0.2825 - val_accuracy: 0.9655\n",
            "Epoch 96/100\n",
            "177/177 [==============================] - 213s 1s/step - loss: 0.0076 - accuracy: 0.9970 - val_loss: 0.2798 - val_accuracy: 0.9670\n",
            "Epoch 97/100\n",
            "177/177 [==============================] - 213s 1s/step - loss: 0.0074 - accuracy: 0.9969 - val_loss: 0.2649 - val_accuracy: 0.9658\n",
            "Epoch 98/100\n",
            "177/177 [==============================] - 213s 1s/step - loss: 0.0079 - accuracy: 0.9974 - val_loss: 0.2746 - val_accuracy: 0.9639\n",
            "Epoch 99/100\n",
            "177/177 [==============================] - 213s 1s/step - loss: 0.0074 - accuracy: 0.9977 - val_loss: 0.2970 - val_accuracy: 0.9658\n",
            "Epoch 100/100\n",
            "177/177 [==============================] - 212s 1s/step - loss: 0.0080 - accuracy: 0.9973 - val_loss: 0.2825 - val_accuracy: 0.9658\n",
            "1563/1563 [==============================] - 26s 17ms/step - loss: 0.3386 - accuracy: 0.9680\n"
          ]
        }
      ],
      "source": [
        "from keras_tuner.protos.keras_tuner_pb2 import HyperParameters\n",
        "# benchmarks dictionary to store the accuracy of the best configuration of each model\n",
        "model_benchmarks = {'model_name':[], 'test_accuracy':[], 'test_loss':[]}\n",
        "optimized_configs = {'model_name':[],'trainable_layer':[], 'optimizer':[], 'learning_rate':[], 'dense':[],'batch_size':[]}\n",
        "\n",
        "#Loop all over available pretrained models in keras\n",
        "for model_name, pre_model in model_list[32:33]:\n",
        "# for model_name, pre_model in tqdm(model_dictionary.items()):\n",
        "  if 'NASNetLarge' in model_name:\n",
        "    input_shape = (331, 331, 3)\n",
        "    train_datagen = train_data_generation(train_val_gen,331, dataset_path + '/train')\n",
        "    val_datagen = train_data_generation(train_val_gen,331, dataset_path + '/val')\n",
        "    test_datagen = test_data_generation (331)\n",
        "  elif 'ception' in model_name:\n",
        "    input_shape = (299, 299, 3)\n",
        "    train_datagen = train_data_generation(train_val_gen,299, dataset_path + '/train')\n",
        "    val_datagen = train_data_generation(train_val_gen,299, dataset_path + '/val')\n",
        "    test_datagen = test_data_generation (299)\n",
        "  else: \n",
        "    input_shape = (224, 224, 3)\n",
        "    train_datagen = train_data_generation(train_val_gen,224, dataset_path + '/train')\n",
        "    val_datagen = train_data_generation(train_val_gen,224, dataset_path + '/val')\n",
        "    test_datagen = test_data_generation (224)\n",
        "\n",
        "  #Load pretrained models\n",
        "  print(\"----------------------------------------\\n\")\n",
        "  print(model_name)\n",
        "  pretrained_model = pre_model(weights = 'imagenet',\n",
        "                          classes = 1000,\n",
        "                          input_shape = input_shape,\n",
        "                          include_top = False,\n",
        "                          pooling = 'max')\n",
        "  print(\"\\n\")\n",
        "  # print(len(pretrained_model.layers))\n",
        "  # print(isinstance(pretrained_model, model_classes))\n",
        "\n",
        "  names = [layer.name for layer in pretrained_model.layers]\n",
        "  # print(names)\n",
        "  indexes = [(names.index(conv)-len(names)) for conv in names if \"conv\" in conv]\n",
        "  print(indexes)\n",
        "\n",
        "  #Defining a class of hyperparameter model\n",
        "  class MyHyperModel(kt.HyperModel):\n",
        "    def build(self, hp):\n",
        "\n",
        "      # Defining a set of hyperparameters for tuning and their range of value\n",
        "      # hp_activation = hp.Choice(name = 'activation', values = ['relu', 'sigmoid', 'tanh'], ordered = False)\n",
        "      hp_trainable = hp.Choice('trainable_layer', values = indexes[-10:]+[0])\n",
        "      hp_learning_rate = hp.Choice('learning_rate', values = [1e-2,1e-3,1e-4,1e-5])\n",
        "      # hp_dropout_rate = hp.Choice('dropout', values=[0., 0.1, 0.25, 0.5])\n",
        "      # hp_dropout = hp.Boolean(\"dropout\")\n",
        "      hp_units = hp.Int('dense', min_value = 32, max_value = 1024, step = 32)\n",
        "\n",
        "      hp_optimizer = hp.Choice('optimizer', values=['sgd', 'rmsprop', 'adam'])\n",
        "      if hp_optimizer == 'sgd':\n",
        "          optimizer = tf.keras.optimizers.SGD(learning_rate=hp_learning_rate, momentum=0.95)\n",
        "      elif hp_optimizer == 'rmsprop':\n",
        "          optimizer = tf.keras.optimizers.RMSprop(learning_rate=hp_learning_rate, momentum=0.95)\n",
        "      elif hp_optimizer == 'adam':\n",
        "          optimizer = tf.keras.optimizers.Adam(learning_rate=hp_learning_rate)\n",
        "      else:\n",
        "        raise\n",
        "\n",
        "\n",
        "      # Freeze the layers except the last hp_trainable layers\n",
        "      # for layer in pretrained_model.layers[:hp_trainable]:\n",
        "      if (hp_trainable !=0 ):\n",
        "        for layer in pretrained_model.layers[:hp_trainable]:\n",
        "            layer.trainable = False\n",
        "      # else:\n",
        "      #   # Check the trainable status of the individual layers\n",
        "      #   for layer in pretrained_model.layers:\n",
        "      #       print(layer, layer.trainable)\n",
        "\n",
        "\n",
        "      # Create the model\n",
        "      model = models.Sequential()\n",
        "      \n",
        "      # Add the pretranined base model\n",
        "      model.add(pretrained_model)\n",
        "      \n",
        "      # Add new layers\n",
        "      model.add(layers.Flatten())\n",
        "      model.add(layers.Dense(units = hp_units, activation='relu'))\n",
        "      #Tune whether to use dropout:\n",
        "      # if hp_dropout:\n",
        "      model.add(layers.Dropout(rate=0.5))\n",
        "      model.add(layers.Dense(3, activation='softmax'))\n",
        "      \n",
        "      \n",
        "      # Define optimizer with learning rate as hyperparameters\n",
        "      # model.compile(optimizer = optimizer, \n",
        "      model.compile(optimizer = hp_optimizer, \n",
        "                  loss = \"categorical_crossentropy\",\n",
        "                  metrics = [\"accuracy\"])\n",
        "      return model\n",
        "\n",
        "    # Defining batch size as a hyperparameter \n",
        "    def fit(self, hp, model, *args, **kwargs):\n",
        "        return model.fit(\n",
        "            *args,\n",
        "            batch_size=hp.Choice('batch_size', values = [32, 64, 128]),\n",
        "            **kwargs,\n",
        "        )\n",
        "  \n",
        "\n",
        "  # General variables for experiment\n",
        "  # tuner_max_trials = 1\n",
        "  # tuner_epochs = 5\n",
        "  # best_train_epochs = 50\n",
        "\n",
        "  tuner = kt.Hyperband(\n",
        "    MyHyperModel(),\n",
        "    objective='val_accuracy',\n",
        "    overwrite=True, \n",
        "    max_epochs=10,\n",
        "    factor=3,\n",
        "    project_name= model_name)\n",
        "  # tuner = kt.BayesianOptimization(\n",
        "  #     build_hyper_model,\n",
        "  #     objective='val_accuracy',\n",
        "  #     max_trials=tuner_max_trials,\n",
        "  #     seed = 21,\n",
        "  #     project_name= model_name)\n",
        "  \n",
        "\n",
        "  # Initialize an early stopping callback to prevent the model from\n",
        "  # overfitting/spending too much time training with minimal gains\n",
        "  \n",
        "  # early_stopping = EarlyStopping(\n",
        "  #   monitor='val_accuracy',\n",
        "  #   mode='max',\n",
        "  #   patience=1,\n",
        "  #   baseline=0.8,\n",
        "  #   restore_best_weights=True)\n",
        "  early_stopping = EarlyStopping(\n",
        "  monitor='val_loss',\n",
        "  patience=5)\n",
        "\n",
        "\n",
        "  print(\"[INFO] performing hyperparameter search...\")\n",
        "  tuner.search(\n",
        "    train_datagen,\n",
        "    validation_data=val_datagen, \n",
        "    callbacks=[early_stopping],\n",
        "    epochs=30,\n",
        "  )\n",
        "\n",
        "\n",
        "  # Grab the best hyperparameters\n",
        "  print(\"[INFO] saving optimized model's configuration ...\\n\")\n",
        "\n",
        "  bestHP = tuner.get_best_hyperparameters(num_trials=1)[0]\n",
        "  \n",
        "  # Store configuration into optimized configs dictionary\n",
        "\n",
        "  optimized_configs['model_name'].append(model_name)\n",
        "  optimized_configs['trainable_layer'].append(bestHP.get('trainable_layer'))\n",
        "  optimized_configs['optimizer'].append(bestHP.get('optimizer'))\n",
        "  optimized_configs['learning_rate'].append(bestHP.get('learning_rate'))\n",
        "  optimized_configs['dense'].append(bestHP.get('dense'))\n",
        "  optimized_configs['batch_size'].append(bestHP.get('batch_size'))\n",
        "  \n",
        "  # Check the best model from above trials\n",
        "  best_model=tuner.get_best_models(num_models=1)[0]\n",
        "  \n",
        "  # ModelCheckpoint callback will save models weight if the training accuracy of the model has increased from the previous epoch\n",
        "  model_filepath = '/content/best_VGG16-hyper.h5'\n",
        "  model_save = tf.keras.callbacks.ModelCheckpoint(model_filepath,\n",
        "                                                  monitor = \"val_accuracy\",\n",
        "                                                  verbose = 0,\n",
        "                                                  save_best_only = True,\n",
        "                                                  save_weights_only = False,\n",
        "                                                  mode = \"max\",\n",
        "                                                  save_freq = \"epoch\")\n",
        "\n",
        "\n",
        "  # Retrained optimized model\n",
        "\n",
        "  fit_callback = [model_save]\n",
        "  hp_history = best_model.fit(train_datagen, epochs=100, validation_data=(val_datagen), shuffle = False,callbacks = fit_callback)\n",
        "\n",
        "  # Model prediction on test set\n",
        "\n",
        "  results = best_model.evaluate(test_datagen,\n",
        "                              verbose = 1,\n",
        "                              steps = (len(test_datagen)))\n",
        "  # Calculate relevant metrics to store to benchmarks dictionary\n",
        "  model_benchmarks['model_name'].append(model_name)\n",
        "  model_benchmarks['test_accuracy'].append(results[1])\n",
        "  model_benchmarks['test_loss'].append(results[0])"
      ]
    },
    {
      "cell_type": "code",
      "execution_count": null,
      "metadata": {
        "colab": {
          "base_uri": "https://localhost:8080/",
          "height": 80
        },
        "id": "etD09aLlkrfv",
        "outputId": "05a97099-a41f-4550-8fce-f380f49ee647"
      },
      "outputs": [
        {
          "data": {
            "text/html": [
              "\n",
              "  <div id=\"df-1401843e-0b0f-4ae5-8f8f-76915cd9b98a\">\n",
              "    <div class=\"colab-df-container\">\n",
              "      <div>\n",
              "<style scoped>\n",
              "    .dataframe tbody tr th:only-of-type {\n",
              "        vertical-align: middle;\n",
              "    }\n",
              "\n",
              "    .dataframe tbody tr th {\n",
              "        vertical-align: top;\n",
              "    }\n",
              "\n",
              "    .dataframe thead th {\n",
              "        text-align: right;\n",
              "    }\n",
              "</style>\n",
              "<table border=\"1\" class=\"dataframe\">\n",
              "  <thead>\n",
              "    <tr style=\"text-align: right;\">\n",
              "      <th></th>\n",
              "      <th>model_name</th>\n",
              "      <th>test_accuracy</th>\n",
              "      <th>test_loss</th>\n",
              "    </tr>\n",
              "  </thead>\n",
              "  <tbody>\n",
              "    <tr>\n",
              "      <th>0</th>\n",
              "      <td>VGG16</td>\n",
              "      <td>0.96801</td>\n",
              "      <td>0.338551</td>\n",
              "    </tr>\n",
              "  </tbody>\n",
              "</table>\n",
              "</div>\n",
              "      <button class=\"colab-df-convert\" onclick=\"convertToInteractive('df-1401843e-0b0f-4ae5-8f8f-76915cd9b98a')\"\n",
              "              title=\"Convert this dataframe to an interactive table.\"\n",
              "              style=\"display:none;\">\n",
              "        \n",
              "  <svg xmlns=\"http://www.w3.org/2000/svg\" height=\"24px\"viewBox=\"0 0 24 24\"\n",
              "       width=\"24px\">\n",
              "    <path d=\"M0 0h24v24H0V0z\" fill=\"none\"/>\n",
              "    <path d=\"M18.56 5.44l.94 2.06.94-2.06 2.06-.94-2.06-.94-.94-2.06-.94 2.06-2.06.94zm-11 1L8.5 8.5l.94-2.06 2.06-.94-2.06-.94L8.5 2.5l-.94 2.06-2.06.94zm10 10l.94 2.06.94-2.06 2.06-.94-2.06-.94-.94-2.06-.94 2.06-2.06.94z\"/><path d=\"M17.41 7.96l-1.37-1.37c-.4-.4-.92-.59-1.43-.59-.52 0-1.04.2-1.43.59L10.3 9.45l-7.72 7.72c-.78.78-.78 2.05 0 2.83L4 21.41c.39.39.9.59 1.41.59.51 0 1.02-.2 1.41-.59l7.78-7.78 2.81-2.81c.8-.78.8-2.07 0-2.86zM5.41 20L4 18.59l7.72-7.72 1.47 1.35L5.41 20z\"/>\n",
              "  </svg>\n",
              "      </button>\n",
              "      \n",
              "  <style>\n",
              "    .colab-df-container {\n",
              "      display:flex;\n",
              "      flex-wrap:wrap;\n",
              "      gap: 12px;\n",
              "    }\n",
              "\n",
              "    .colab-df-convert {\n",
              "      background-color: #E8F0FE;\n",
              "      border: none;\n",
              "      border-radius: 50%;\n",
              "      cursor: pointer;\n",
              "      display: none;\n",
              "      fill: #1967D2;\n",
              "      height: 32px;\n",
              "      padding: 0 0 0 0;\n",
              "      width: 32px;\n",
              "    }\n",
              "\n",
              "    .colab-df-convert:hover {\n",
              "      background-color: #E2EBFA;\n",
              "      box-shadow: 0px 1px 2px rgba(60, 64, 67, 0.3), 0px 1px 3px 1px rgba(60, 64, 67, 0.15);\n",
              "      fill: #174EA6;\n",
              "    }\n",
              "\n",
              "    [theme=dark] .colab-df-convert {\n",
              "      background-color: #3B4455;\n",
              "      fill: #D2E3FC;\n",
              "    }\n",
              "\n",
              "    [theme=dark] .colab-df-convert:hover {\n",
              "      background-color: #434B5C;\n",
              "      box-shadow: 0px 1px 3px 1px rgba(0, 0, 0, 0.15);\n",
              "      filter: drop-shadow(0px 1px 2px rgba(0, 0, 0, 0.3));\n",
              "      fill: #FFFFFF;\n",
              "    }\n",
              "  </style>\n",
              "\n",
              "      <script>\n",
              "        const buttonEl =\n",
              "          document.querySelector('#df-1401843e-0b0f-4ae5-8f8f-76915cd9b98a button.colab-df-convert');\n",
              "        buttonEl.style.display =\n",
              "          google.colab.kernel.accessAllowed ? 'block' : 'none';\n",
              "\n",
              "        async function convertToInteractive(key) {\n",
              "          const element = document.querySelector('#df-1401843e-0b0f-4ae5-8f8f-76915cd9b98a');\n",
              "          const dataTable =\n",
              "            await google.colab.kernel.invokeFunction('convertToInteractive',\n",
              "                                                     [key], {});\n",
              "          if (!dataTable) return;\n",
              "\n",
              "          const docLinkHtml = 'Like what you see? Visit the ' +\n",
              "            '<a target=\"_blank\" href=https://colab.research.google.com/notebooks/data_table.ipynb>data table notebook</a>'\n",
              "            + ' to learn more about interactive tables.';\n",
              "          element.innerHTML = '';\n",
              "          dataTable['output_type'] = 'display_data';\n",
              "          await google.colab.output.renderOutput(dataTable, element);\n",
              "          const docLink = document.createElement('div');\n",
              "          docLink.innerHTML = docLinkHtml;\n",
              "          element.appendChild(docLink);\n",
              "        }\n",
              "      </script>\n",
              "    </div>\n",
              "  </div>\n",
              "  "
            ],
            "text/plain": [
              "  model_name  test_accuracy  test_loss\n",
              "0      VGG16        0.96801   0.338551"
            ]
          },
          "execution_count": 18,
          "metadata": {},
          "output_type": "execute_result"
        }
      ],
      "source": [
        "import pandas as pd\n",
        "\n",
        "#Convert results to dataframe\n",
        "benchmark_df = pd.DataFrame(model_benchmarks)\n",
        "benchmark_df\n"
      ]
    },
    {
      "cell_type": "code",
      "execution_count": null,
      "metadata": {
        "colab": {
          "base_uri": "https://localhost:8080/",
          "height": 80
        },
        "id": "5eqIw6jPV6m2",
        "outputId": "d48263ba-5965-4209-dead-51e77425601a"
      },
      "outputs": [
        {
          "data": {
            "text/html": [
              "\n",
              "  <div id=\"df-0047da2b-41da-42e4-b308-cf5172e5f6ff\">\n",
              "    <div class=\"colab-df-container\">\n",
              "      <div>\n",
              "<style scoped>\n",
              "    .dataframe tbody tr th:only-of-type {\n",
              "        vertical-align: middle;\n",
              "    }\n",
              "\n",
              "    .dataframe tbody tr th {\n",
              "        vertical-align: top;\n",
              "    }\n",
              "\n",
              "    .dataframe thead th {\n",
              "        text-align: right;\n",
              "    }\n",
              "</style>\n",
              "<table border=\"1\" class=\"dataframe\">\n",
              "  <thead>\n",
              "    <tr style=\"text-align: right;\">\n",
              "      <th></th>\n",
              "      <th>model_name</th>\n",
              "      <th>trainable_layer</th>\n",
              "      <th>optimizer</th>\n",
              "      <th>learning_rate</th>\n",
              "      <th>dense</th>\n",
              "      <th>batch_size</th>\n",
              "    </tr>\n",
              "  </thead>\n",
              "  <tbody>\n",
              "    <tr>\n",
              "      <th>0</th>\n",
              "      <td>VGG16</td>\n",
              "      <td>-7</td>\n",
              "      <td>sgd</td>\n",
              "      <td>0.001</td>\n",
              "      <td>320</td>\n",
              "      <td>128</td>\n",
              "    </tr>\n",
              "  </tbody>\n",
              "</table>\n",
              "</div>\n",
              "      <button class=\"colab-df-convert\" onclick=\"convertToInteractive('df-0047da2b-41da-42e4-b308-cf5172e5f6ff')\"\n",
              "              title=\"Convert this dataframe to an interactive table.\"\n",
              "              style=\"display:none;\">\n",
              "        \n",
              "  <svg xmlns=\"http://www.w3.org/2000/svg\" height=\"24px\"viewBox=\"0 0 24 24\"\n",
              "       width=\"24px\">\n",
              "    <path d=\"M0 0h24v24H0V0z\" fill=\"none\"/>\n",
              "    <path d=\"M18.56 5.44l.94 2.06.94-2.06 2.06-.94-2.06-.94-.94-2.06-.94 2.06-2.06.94zm-11 1L8.5 8.5l.94-2.06 2.06-.94-2.06-.94L8.5 2.5l-.94 2.06-2.06.94zm10 10l.94 2.06.94-2.06 2.06-.94-2.06-.94-.94-2.06-.94 2.06-2.06.94z\"/><path d=\"M17.41 7.96l-1.37-1.37c-.4-.4-.92-.59-1.43-.59-.52 0-1.04.2-1.43.59L10.3 9.45l-7.72 7.72c-.78.78-.78 2.05 0 2.83L4 21.41c.39.39.9.59 1.41.59.51 0 1.02-.2 1.41-.59l7.78-7.78 2.81-2.81c.8-.78.8-2.07 0-2.86zM5.41 20L4 18.59l7.72-7.72 1.47 1.35L5.41 20z\"/>\n",
              "  </svg>\n",
              "      </button>\n",
              "      \n",
              "  <style>\n",
              "    .colab-df-container {\n",
              "      display:flex;\n",
              "      flex-wrap:wrap;\n",
              "      gap: 12px;\n",
              "    }\n",
              "\n",
              "    .colab-df-convert {\n",
              "      background-color: #E8F0FE;\n",
              "      border: none;\n",
              "      border-radius: 50%;\n",
              "      cursor: pointer;\n",
              "      display: none;\n",
              "      fill: #1967D2;\n",
              "      height: 32px;\n",
              "      padding: 0 0 0 0;\n",
              "      width: 32px;\n",
              "    }\n",
              "\n",
              "    .colab-df-convert:hover {\n",
              "      background-color: #E2EBFA;\n",
              "      box-shadow: 0px 1px 2px rgba(60, 64, 67, 0.3), 0px 1px 3px 1px rgba(60, 64, 67, 0.15);\n",
              "      fill: #174EA6;\n",
              "    }\n",
              "\n",
              "    [theme=dark] .colab-df-convert {\n",
              "      background-color: #3B4455;\n",
              "      fill: #D2E3FC;\n",
              "    }\n",
              "\n",
              "    [theme=dark] .colab-df-convert:hover {\n",
              "      background-color: #434B5C;\n",
              "      box-shadow: 0px 1px 3px 1px rgba(0, 0, 0, 0.15);\n",
              "      filter: drop-shadow(0px 1px 2px rgba(0, 0, 0, 0.3));\n",
              "      fill: #FFFFFF;\n",
              "    }\n",
              "  </style>\n",
              "\n",
              "      <script>\n",
              "        const buttonEl =\n",
              "          document.querySelector('#df-0047da2b-41da-42e4-b308-cf5172e5f6ff button.colab-df-convert');\n",
              "        buttonEl.style.display =\n",
              "          google.colab.kernel.accessAllowed ? 'block' : 'none';\n",
              "\n",
              "        async function convertToInteractive(key) {\n",
              "          const element = document.querySelector('#df-0047da2b-41da-42e4-b308-cf5172e5f6ff');\n",
              "          const dataTable =\n",
              "            await google.colab.kernel.invokeFunction('convertToInteractive',\n",
              "                                                     [key], {});\n",
              "          if (!dataTable) return;\n",
              "\n",
              "          const docLinkHtml = 'Like what you see? Visit the ' +\n",
              "            '<a target=\"_blank\" href=https://colab.research.google.com/notebooks/data_table.ipynb>data table notebook</a>'\n",
              "            + ' to learn more about interactive tables.';\n",
              "          element.innerHTML = '';\n",
              "          dataTable['output_type'] = 'display_data';\n",
              "          await google.colab.output.renderOutput(dataTable, element);\n",
              "          const docLink = document.createElement('div');\n",
              "          docLink.innerHTML = docLinkHtml;\n",
              "          element.appendChild(docLink);\n",
              "        }\n",
              "      </script>\n",
              "    </div>\n",
              "  </div>\n",
              "  "
            ],
            "text/plain": [
              "  model_name  trainable_layer optimizer  learning_rate  dense  batch_size\n",
              "0      VGG16               -7       sgd          0.001    320         128"
            ]
          },
          "execution_count": 19,
          "metadata": {},
          "output_type": "execute_result"
        }
      ],
      "source": [
        "# Convert & show optimized models' configuration\n",
        "optimized_conf_df = pd.DataFrame(optimized_configs)\n",
        "optimized_conf_df"
      ]
    },
    {
      "cell_type": "markdown",
      "metadata": {
        "id": "XTisZsC2E2L1"
      },
      "source": []
    },
    {
      "cell_type": "code",
      "execution_count": null,
      "metadata": {
        "colab": {
          "base_uri": "https://localhost:8080/",
          "height": 867
        },
        "id": "mPVM5tnlbWHW",
        "outputId": "857a8285-6002-427a-8057-476fa2b76c32"
      },
      "outputs": [
        {
          "data": {
            "image/png": "[encoded data removed]",
            "text/plain": [
              "<Figure size 1080x504 with 1 Axes>"
            ]
          },
          "metadata": {
            "needs_background": "light"
          },
          "output_type": "display_data"
        },
        {
          "data": {
            "image/png": "[encoded data removed]",
            "text/plain": [
              "<Figure size 1080x504 with 1 Axes>"
            ]
          },
          "metadata": {
            "needs_background": "light"
          },
          "output_type": "display_data"
        }
      ],
      "source": [
        "# Plotting the loss and accuracy graphs\n",
        "\n",
        "import matplotlib.pyplot as plt\n",
        "\n",
        "plt.figure(figsize = (15,7))\n",
        "\n",
        "tr_losses = hp_history.history['loss']\n",
        "val_losses = hp_history.history['val_loss']\n",
        "\n",
        "tr_accs = hp_history.history['accuracy']\n",
        "val_accs = hp_history.history['val_accuracy']\n",
        "\n",
        "plt.plot(tr_losses, label = \"train_loss\")\n",
        "plt.plot(val_losses, label = \"val_loss\")\n",
        "plt.xlabel(\"Number of epochs\")\n",
        "plt.ylabel(\"Cost (J)\")\n",
        "plt.grid()\n",
        "plt.legend()\n",
        "plt.show()\n",
        "\n",
        "plt.figure(figsize = (15,7))\n",
        "\n",
        "plt.plot(tr_accs, label = \"acc_train\")\n",
        "plt.plot(val_accs, label = \"acc_val\")\n",
        "plt.xlabel(\"Number of epochs\")\n",
        "plt.ylabel(\"Accuracy\")\n",
        "plt.grid()\n",
        "plt.legend()\n",
        "plt.show()"
      ]
    },
    {
      "cell_type": "markdown",
      "metadata": {
        "id": "i1nd0ozBLU96"
      },
      "source": [
        "## Model evaluation on test set\n",
        "\n"
      ]
    },
    {
      "cell_type": "code",
      "execution_count": null,
      "metadata": {
        "colab": {
          "base_uri": "https://localhost:8080/"
        },
        "id": "AOg2apcILJQo",
        "outputId": "8aefb6a5-9e9e-4904-ab9b-6ead97fabf24"
      },
      "outputs": [
        {
          "name": "stdout",
          "output_type": "stream",
          "text": [
            "1563/1563 [==============================] - 25s 16ms/step\n"
          ]
        }
      ],
      "source": [
        "# Model prediction on test set\n",
        "\n",
        "predictions =  best_model.predict(test_datagen,\n",
        "                            verbose = 1,\n",
        "                            steps = (len(test_datagen)))"
      ]
    },
    {
      "cell_type": "code",
      "execution_count": null,
      "metadata": {
        "colab": {
          "base_uri": "https://localhost:8080/"
        },
        "id": "2OcQ1My_MCTR",
        "outputId": "38116662-3548-44de-dea1-b44d8e43a96b"
      },
      "outputs": [
        {
          "data": {
            "text/plain": [
              "array([0, 0, 0, ..., 2, 2, 2])"
            ]
          },
          "execution_count": 22,
          "metadata": {},
          "output_type": "execute_result"
        }
      ],
      "source": [
        "# Printing predicted classes on the test dataset\n",
        "\n",
        "predictions.squeeze().argmax(axis = -1)"
      ]
    },
    {
      "cell_type": "code",
      "execution_count": null,
      "metadata": {
        "colab": {
          "base_uri": "https://localhost:8080/"
        },
        "id": "1mX7007uLJCi",
        "outputId": "a0b6327d-dbe9-45da-a155-942a8b9de42a"
      },
      "outputs": [
        {
          "name": "stdout",
          "output_type": "stream",
          "text": [
            "              precision    recall  f1-score   support\n",
            "\n",
            "           0       0.97      0.98      0.97       491\n",
            "           1       0.95      0.98      0.96       545\n",
            "           2       0.99      0.95      0.97       527\n",
            "\n",
            "    accuracy                           0.97      1563\n",
            "   macro avg       0.97      0.97      0.97      1563\n",
            "weighted avg       0.97      0.97      0.97      1563\n",
            "\n"
          ]
        }
      ],
      "source": [
        "# Generating the classification report for checking the model's performance on the test set of the same dataset\n",
        "\n",
        "classification__report = classification_report(test_datagen.classes,\n",
        "                                               predictions.squeeze().argmax(axis = 1))\n",
        "print(classification__report)"
      ]
    },
    {
      "cell_type": "code",
      "execution_count": null,
      "metadata": {
        "colab": {
          "base_uri": "https://localhost:8080/"
        },
        "id": "WvlpxIs2LP6a",
        "outputId": "3e23cf23-f21e-4d72-9d9f-5955a5aad32a"
      },
      "outputs": [
        {
          "name": "stdout",
          "output_type": "stream",
          "text": [
            "[[479  10   2]\n",
            " [ 11 532   2]\n",
            " [  5  20 502]]\n"
          ]
        }
      ],
      "source": [
        "# Generating confusion matrix to see where the model is misclassifying\n",
        "\n",
        "confusion__matrix = confusion_matrix(test_datagen.classes,\n",
        "                                     predictions.squeeze().argmax(axis = 1))\n",
        "print(confusion__matrix)"
      ]
    },
    {
      "cell_type": "code",
      "execution_count": null,
      "metadata": {
        "id": "P02D0amrCxqd"
      },
      "outputs": [],
      "source": [
        "# Defining a function to print a confusion matrix\n",
        "\n",
        "import itertools\n",
        "def plot_confusion_matrix(cm,\n",
        "                          classes,\n",
        "                          normalise = False,\n",
        "                          title = 'Confusion matrix',\n",
        "                          cmap = plt.cm.Reds):\n",
        "    \n",
        "    plt.imshow(cm, interpolation = 'nearest', cmap = cmap)\n",
        "    plt.title(title)\n",
        "    plt.colorbar()\n",
        "    tick_marks = np.arange(len(classes))\n",
        "    plt.xticks(tick_marks, classes, rotation = 45)\n",
        "    plt.yticks(tick_marks, classes)\n",
        "\n",
        "    if normalise:\n",
        "        cm = cm.astype('float') / cm.sum(axis = 1)[:, np.newaxis]\n",
        "        cm = cm.round(2)\n",
        "\n",
        "    thresh = cm.max() / 2.\n",
        "    \n",
        "    for i, j in itertools.product(range(cm.shape[0]), range(cm.shape[1])):\n",
        "        plt.text(j, i, cm[i, j],\n",
        "                 horizontalalignment = \"center\",\n",
        "                 color = \"white\" if cm[i, j] > thresh else \"black\")\n",
        "        \n",
        "    plt.tight_layout()\n",
        "    plt.ylabel('True label')\n",
        "    plt.xlabel('Predicted label')"
      ]
    },
    {
      "cell_type": "code",
      "execution_count": null,
      "metadata": {
        "colab": {
          "base_uri": "https://localhost:8080/",
          "height": 455
        },
        "id": "hnQiFQydI-gY",
        "outputId": "a1fd408f-c03f-4ea0-f3f4-3fdcd6017da8"
      },
      "outputs": [
        {
          "data": {
            "image/png": "[encoded data removed]",
            "text/plain": [
              "<Figure size 504x432 with 2 Axes>"
            ]
          },
          "metadata": {
            "needs_background": "light"
          },
          "output_type": "display_data"
        }
      ],
      "source": [
        "# Printing the confusion matrix (not normalised)\n",
        "\n",
        "np.set_printoptions(precision = 2)\n",
        "fig1 = plt.figure(figsize = (7, 6))\n",
        "plot_confusion_matrix(confusion__matrix,\n",
        "                      classes = np.unique(test_datagen.classes),\n",
        "                      title = 'Confusion matrix without normalisation')\n",
        "fig1.savefig('/content/cm_wo_norm.jpg')\n",
        "plt.show()"
      ]
    },
    {
      "cell_type": "code",
      "execution_count": null,
      "metadata": {
        "colab": {
          "base_uri": "https://localhost:8080/",
          "height": 455
        },
        "id": "pGMNo8k8I2pt",
        "outputId": "47b235da-45e4-4421-dc61-3da4771d49bc"
      },
      "outputs": [
        {
          "data": {
            "image/png": "[encoded data removed]",
            "text/plain": [
              "<Figure size 504x432 with 2 Axes>"
            ]
          },
          "metadata": {
            "needs_background": "light"
          },
          "output_type": "display_data"
        }
      ],
      "source": [
        "# Printing the confusion matrix (normalised)\n",
        "\n",
        "np.set_printoptions(precision = 2)\n",
        "fig2 = plt.figure(figsize = (7,6))\n",
        "plot_confusion_matrix(confusion__matrix,\n",
        "                      classes = np.unique(test_datagen.classes),\n",
        "                      normalise = True,\n",
        "                      title = 'Normalised Confusion matrix')\n",
        "fig2.savefig('/content/cm_norm.jpg')\n",
        "plt.show()"
      ]
    },
    {
      "cell_type": "code",
      "execution_count": null,
      "metadata": {
        "id": "x_iP5pn1VJDR"
      },
      "outputs": [],
      "source": []
    }
  ],
  "metadata": {
    "accelerator": "GPU",
    "colab": {
      "background_execution": "on",
      "collapsed_sections": [],
      "machine_shape": "hm",
      "name": "BestHyperband_VGG16.ipynb",
      "provenance": []
    },
    "kernelspec": {
      "display_name": "Python 3",
      "name": "python3"
    },
    "language_info": {
      "name": "python"
    }
  },
  "nbformat": 4,
  "nbformat_minor": 0
}
